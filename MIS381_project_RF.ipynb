{
  "nbformat": 4,
  "nbformat_minor": 0,
  "metadata": {
    "colab": {
      "name": "MIS381_project_RF.ipynb",
      "provenance": []
    },
    "kernelspec": {
      "name": "python3",
      "display_name": "Python 3"
    },
    "language_info": {
      "name": "python"
    }
  },
  "cells": [
    {
      "cell_type": "code",
      "metadata": {
        "id": "6la782iOXPxV"
      },
      "source": [
        "import pandas as pd\n",
        "import matplotlib as plt\n",
        "import numpy as np\n",
        "from sklearn.ensemble import RandomForestClassifier\n",
        "from sklearn.model_selection import train_test_split"
      ],
      "execution_count": 182,
      "outputs": []
    },
    {
      "cell_type": "code",
      "metadata": {
        "id": "iAVVTfv6ZsOM"
      },
      "source": [
        "insurance_df=pd.read_csv('insurance.csv')"
      ],
      "execution_count": 183,
      "outputs": []
    },
    {
      "cell_type": "code",
      "metadata": {
        "id": "HoZax_WXaIa0"
      },
      "source": [
        "insurance_df['High Risk']=(insurance_df['charges']>=insurance_df['charges'].quantile(.7)).astype(int)\n",
        "insurance_df['sex']=insurance_df['sex'].replace('male', 0)\n",
        "insurance_df['sex']=insurance_df['sex'].replace('female', 1)\n",
        "insurance_df['smoker']=insurance_df['smoker'].replace('yes', 1)\n",
        "insurance_df['smoker']=insurance_df['smoker'].replace('no', 0)\n",
        "region_df=pd.get_dummies(insurance_df['region'], prefix='region')\n",
        "insurance_ohe_df=pd.concat([insurance_df,region_df], axis=1)"
      ],
      "execution_count": 184,
      "outputs": []
    },
    {
      "cell_type": "code",
      "metadata": {
        "id": "YKTeLMQseoQg"
      },
      "source": [
        "x=insurance_ohe_df.drop(['High Risk', 'charges', 'region'], axis=1)\n",
        "y=insurance_ohe_df['High Risk']\n",
        "x_train, x_test, y_train, y_test = train_test_split(x, y, random_state=1234)"
      ],
      "execution_count": 185,
      "outputs": []
    },
    {
      "cell_type": "code",
      "metadata": {
        "id": "WHYPeOU1fdpD"
      },
      "source": [
        "rf_clf=RandomForestClassifier(n_estimators=3, random_state=1234).fit(x_train, y_train)\n",
        "rf_feature_importance=rf_clf.feature_importances_\n",
        "col_names=np.array(x_train.columns)"
      ],
      "execution_count": 186,
      "outputs": []
    },
    {
      "cell_type": "code",
      "metadata": {
        "colab": {
          "base_uri": "https://localhost:8080/",
          "height": 326
        },
        "id": "VhX26UCGnAY7",
        "outputId": "40a343f0-8b17-43db-c349-f99f1b8f2463"
      },
      "source": [
        "fi_df=pd.DataFrame(col_names,rf_feature_importance)\n",
        "fi_df.sort_index(ascending=False)"
      ],
      "execution_count": 187,
      "outputs": [
        {
          "output_type": "execute_result",
          "data": {
            "text/html": [
              "<div>\n",
              "<style scoped>\n",
              "    .dataframe tbody tr th:only-of-type {\n",
              "        vertical-align: middle;\n",
              "    }\n",
              "\n",
              "    .dataframe tbody tr th {\n",
              "        vertical-align: top;\n",
              "    }\n",
              "\n",
              "    .dataframe thead th {\n",
              "        text-align: right;\n",
              "    }\n",
              "</style>\n",
              "<table border=\"1\" class=\"dataframe\">\n",
              "  <thead>\n",
              "    <tr style=\"text-align: right;\">\n",
              "      <th></th>\n",
              "      <th>0</th>\n",
              "    </tr>\n",
              "  </thead>\n",
              "  <tbody>\n",
              "    <tr>\n",
              "      <th>0.582228</th>\n",
              "      <td>smoker</td>\n",
              "    </tr>\n",
              "    <tr>\n",
              "      <th>0.173786</th>\n",
              "      <td>age</td>\n",
              "    </tr>\n",
              "    <tr>\n",
              "      <th>0.140311</th>\n",
              "      <td>bmi</td>\n",
              "    </tr>\n",
              "    <tr>\n",
              "      <th>0.060937</th>\n",
              "      <td>children</td>\n",
              "    </tr>\n",
              "    <tr>\n",
              "      <th>0.018284</th>\n",
              "      <td>region_northeast</td>\n",
              "    </tr>\n",
              "    <tr>\n",
              "      <th>0.008012</th>\n",
              "      <td>region_southwest</td>\n",
              "    </tr>\n",
              "    <tr>\n",
              "      <th>0.006250</th>\n",
              "      <td>region_southeast</td>\n",
              "    </tr>\n",
              "    <tr>\n",
              "      <th>0.005793</th>\n",
              "      <td>region_northwest</td>\n",
              "    </tr>\n",
              "    <tr>\n",
              "      <th>0.004400</th>\n",
              "      <td>sex</td>\n",
              "    </tr>\n",
              "  </tbody>\n",
              "</table>\n",
              "</div>"
            ],
            "text/plain": [
              "                         0\n",
              "0.582228            smoker\n",
              "0.173786               age\n",
              "0.140311               bmi\n",
              "0.060937          children\n",
              "0.018284  region_northeast\n",
              "0.008012  region_southwest\n",
              "0.006250  region_southeast\n",
              "0.005793  region_northwest\n",
              "0.004400               sex"
            ]
          },
          "metadata": {
            "tags": []
          },
          "execution_count": 187
        }
      ]
    },
    {
      "cell_type": "code",
      "metadata": {
        "colab": {
          "base_uri": "https://localhost:8080/"
        },
        "id": "hTbc6Q9vkRP7",
        "outputId": "ad5f718a-b7a1-42ab-cf6e-7a6f6e589353"
      },
      "source": [
        "from sklearn.metrics import confusion_matrix\n",
        "confusion_matrix(y_test, rf_clf.predict(x_test))"
      ],
      "execution_count": 188,
      "outputs": [
        {
          "output_type": "execute_result",
          "data": {
            "text/plain": [
              "array([[214,  18],\n",
              "       [ 20,  83]])"
            ]
          },
          "metadata": {
            "tags": []
          },
          "execution_count": 188
        }
      ]
    }
  ]
}