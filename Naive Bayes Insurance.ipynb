{
 "cells": [
  {
   "cell_type": "code",
   "execution_count": 1,
   "id": "c079bd07",
   "metadata": {},
   "outputs": [
    {
     "name": "stdout",
     "output_type": "stream",
     "text": [
      "Populating the interactive namespace from numpy and matplotlib\n"
     ]
    }
   ],
   "source": [
    "from pandas import Series, DataFrame\n",
    "import pandas as pd\n",
    "from patsy import dmatrices\n",
    "%pylab inline"
   ]
  },
  {
   "cell_type": "code",
   "execution_count": 2,
   "id": "4a759083",
   "metadata": {},
   "outputs": [],
   "source": [
    "insurance = pd.read_csv('insurance.csv').drop_duplicates()"
   ]
  },
  {
   "cell_type": "code",
   "execution_count": 3,
   "id": "280fd5a5",
   "metadata": {},
   "outputs": [
    {
     "data": {
      "text/html": [
       "<div>\n",
       "<style scoped>\n",
       "    .dataframe tbody tr th:only-of-type {\n",
       "        vertical-align: middle;\n",
       "    }\n",
       "\n",
       "    .dataframe tbody tr th {\n",
       "        vertical-align: top;\n",
       "    }\n",
       "\n",
       "    .dataframe thead th {\n",
       "        text-align: right;\n",
       "    }\n",
       "</style>\n",
       "<table border=\"1\" class=\"dataframe\">\n",
       "  <thead>\n",
       "    <tr style=\"text-align: right;\">\n",
       "      <th></th>\n",
       "      <th>age</th>\n",
       "      <th>sex</th>\n",
       "      <th>bmi</th>\n",
       "      <th>children</th>\n",
       "      <th>smoker</th>\n",
       "      <th>region</th>\n",
       "      <th>charges</th>\n",
       "      <th>bmiCat</th>\n",
       "    </tr>\n",
       "  </thead>\n",
       "  <tbody>\n",
       "    <tr>\n",
       "      <th>0</th>\n",
       "      <td>19</td>\n",
       "      <td>female</td>\n",
       "      <td>27.900</td>\n",
       "      <td>0</td>\n",
       "      <td>yes</td>\n",
       "      <td>southwest</td>\n",
       "      <td>16884.92400</td>\n",
       "      <td>Overweight</td>\n",
       "    </tr>\n",
       "    <tr>\n",
       "      <th>1</th>\n",
       "      <td>18</td>\n",
       "      <td>male</td>\n",
       "      <td>33.770</td>\n",
       "      <td>1</td>\n",
       "      <td>no</td>\n",
       "      <td>southeast</td>\n",
       "      <td>1725.55230</td>\n",
       "      <td>Obese</td>\n",
       "    </tr>\n",
       "    <tr>\n",
       "      <th>2</th>\n",
       "      <td>28</td>\n",
       "      <td>male</td>\n",
       "      <td>33.000</td>\n",
       "      <td>3</td>\n",
       "      <td>no</td>\n",
       "      <td>southeast</td>\n",
       "      <td>4449.46200</td>\n",
       "      <td>Obese</td>\n",
       "    </tr>\n",
       "    <tr>\n",
       "      <th>3</th>\n",
       "      <td>33</td>\n",
       "      <td>male</td>\n",
       "      <td>22.705</td>\n",
       "      <td>0</td>\n",
       "      <td>no</td>\n",
       "      <td>northwest</td>\n",
       "      <td>21984.47061</td>\n",
       "      <td>Healthy</td>\n",
       "    </tr>\n",
       "    <tr>\n",
       "      <th>4</th>\n",
       "      <td>32</td>\n",
       "      <td>male</td>\n",
       "      <td>28.880</td>\n",
       "      <td>0</td>\n",
       "      <td>no</td>\n",
       "      <td>northwest</td>\n",
       "      <td>3866.85520</td>\n",
       "      <td>Overweight</td>\n",
       "    </tr>\n",
       "  </tbody>\n",
       "</table>\n",
       "</div>"
      ],
      "text/plain": [
       "   age     sex     bmi  children smoker     region      charges      bmiCat\n",
       "0   19  female  27.900         0    yes  southwest  16884.92400  Overweight\n",
       "1   18    male  33.770         1     no  southeast   1725.55230       Obese\n",
       "2   28    male  33.000         3     no  southeast   4449.46200       Obese\n",
       "3   33    male  22.705         0     no  northwest  21984.47061     Healthy\n",
       "4   32    male  28.880         0     no  northwest   3866.85520  Overweight"
      ]
     },
     "execution_count": 3,
     "metadata": {},
     "output_type": "execute_result"
    }
   ],
   "source": [
    "conditions = [\n",
    "    (insurance['bmi'] <= 18.49),\n",
    "    (insurance['bmi'] >= 18.50) & (insurance['bmi'] <= 24.99),\n",
    "    (insurance['bmi'] >= 25 ) & (insurance['bmi'] <= 29.99),\n",
    "    (insurance['bmi'] >= 30)\n",
    "    ]\n",
    "\n",
    "# create a list of the values we want to assign for each condition \n",
    "values = ['Underweight', 'Healthy', 'Overweight', 'Obese']\n",
    "\n",
    "# create a new column and use np.select to assign values to it using our lists as arguments\n",
    "insurance['bmiCat'] = np.select(conditions, values)\n",
    "\n",
    "# display updated DataFrame\n",
    "insurance.head()"
   ]
  },
  {
   "cell_type": "code",
   "execution_count": 4,
   "id": "5a593318",
   "metadata": {},
   "outputs": [
    {
     "data": {
      "text/html": [
       "<div>\n",
       "<style scoped>\n",
       "    .dataframe tbody tr th:only-of-type {\n",
       "        vertical-align: middle;\n",
       "    }\n",
       "\n",
       "    .dataframe tbody tr th {\n",
       "        vertical-align: top;\n",
       "    }\n",
       "\n",
       "    .dataframe thead th {\n",
       "        text-align: right;\n",
       "    }\n",
       "</style>\n",
       "<table border=\"1\" class=\"dataframe\">\n",
       "  <thead>\n",
       "    <tr style=\"text-align: right;\">\n",
       "      <th></th>\n",
       "      <th>age</th>\n",
       "      <th>sex</th>\n",
       "      <th>bmi</th>\n",
       "      <th>children</th>\n",
       "      <th>smoker</th>\n",
       "      <th>region</th>\n",
       "      <th>charges</th>\n",
       "      <th>bmiCat</th>\n",
       "      <th>ageCategory</th>\n",
       "    </tr>\n",
       "  </thead>\n",
       "  <tbody>\n",
       "    <tr>\n",
       "      <th>0</th>\n",
       "      <td>19</td>\n",
       "      <td>female</td>\n",
       "      <td>27.900</td>\n",
       "      <td>0</td>\n",
       "      <td>yes</td>\n",
       "      <td>southwest</td>\n",
       "      <td>16884.92400</td>\n",
       "      <td>Overweight</td>\n",
       "      <td>18-29</td>\n",
       "    </tr>\n",
       "    <tr>\n",
       "      <th>1</th>\n",
       "      <td>18</td>\n",
       "      <td>male</td>\n",
       "      <td>33.770</td>\n",
       "      <td>1</td>\n",
       "      <td>no</td>\n",
       "      <td>southeast</td>\n",
       "      <td>1725.55230</td>\n",
       "      <td>Obese</td>\n",
       "      <td>18-29</td>\n",
       "    </tr>\n",
       "    <tr>\n",
       "      <th>2</th>\n",
       "      <td>28</td>\n",
       "      <td>male</td>\n",
       "      <td>33.000</td>\n",
       "      <td>3</td>\n",
       "      <td>no</td>\n",
       "      <td>southeast</td>\n",
       "      <td>4449.46200</td>\n",
       "      <td>Obese</td>\n",
       "      <td>18-29</td>\n",
       "    </tr>\n",
       "    <tr>\n",
       "      <th>3</th>\n",
       "      <td>33</td>\n",
       "      <td>male</td>\n",
       "      <td>22.705</td>\n",
       "      <td>0</td>\n",
       "      <td>no</td>\n",
       "      <td>northwest</td>\n",
       "      <td>21984.47061</td>\n",
       "      <td>Healthy</td>\n",
       "      <td>30-39</td>\n",
       "    </tr>\n",
       "    <tr>\n",
       "      <th>4</th>\n",
       "      <td>32</td>\n",
       "      <td>male</td>\n",
       "      <td>28.880</td>\n",
       "      <td>0</td>\n",
       "      <td>no</td>\n",
       "      <td>northwest</td>\n",
       "      <td>3866.85520</td>\n",
       "      <td>Overweight</td>\n",
       "      <td>30-39</td>\n",
       "    </tr>\n",
       "  </tbody>\n",
       "</table>\n",
       "</div>"
      ],
      "text/plain": [
       "   age     sex     bmi  children smoker     region      charges      bmiCat  \\\n",
       "0   19  female  27.900         0    yes  southwest  16884.92400  Overweight   \n",
       "1   18    male  33.770         1     no  southeast   1725.55230       Obese   \n",
       "2   28    male  33.000         3     no  southeast   4449.46200       Obese   \n",
       "3   33    male  22.705         0     no  northwest  21984.47061     Healthy   \n",
       "4   32    male  28.880         0     no  northwest   3866.85520  Overweight   \n",
       "\n",
       "  ageCategory  \n",
       "0       18-29  \n",
       "1       18-29  \n",
       "2       18-29  \n",
       "3       30-39  \n",
       "4       30-39  "
      ]
     },
     "execution_count": 4,
     "metadata": {},
     "output_type": "execute_result"
    }
   ],
   "source": [
    "ageConditions = [\n",
    "    (insurance['age'] <= 29),\n",
    "    (insurance['age'] >= 30) & (insurance['age'] <= 39),\n",
    "    (insurance['age'] >= 40 ) & (insurance['age'] <= 49),\n",
    "    (insurance['age'] >= 50 ) & (insurance['age'] <= 59),\n",
    "    (insurance['age'] >= 60)\n",
    "    ]\n",
    "\n",
    "# create a list of the values we want to assign for each condition \n",
    "ageValues = ['18-29', '30-39', '40-49', '50-59','60-65']\n",
    "\n",
    "# create a new column and use np.select to assign values to it using our lists as arguments\n",
    "insurance['ageCategory'] = np.select(ageConditions, ageValues)\n",
    "\n",
    "# display updated DataFrame\n",
    "insurance.head()"
   ]
  },
  {
   "cell_type": "code",
   "execution_count": 5,
   "id": "69168e4b",
   "metadata": {},
   "outputs": [
    {
     "name": "stdout",
     "output_type": "stream",
     "text": [
      "      age     sex     bmi  children smoker     region      charges  \\\n",
      "0      19  female  27.900         0    yes  southwest  16884.92400   \n",
      "1      18    male  33.770         1     no  southeast   1725.55230   \n",
      "2      28    male  33.000         3     no  southeast   4449.46200   \n",
      "3      33    male  22.705         0     no  northwest  21984.47061   \n",
      "4      32    male  28.880         0     no  northwest   3866.85520   \n",
      "...   ...     ...     ...       ...    ...        ...          ...   \n",
      "1333   50    male  30.970         3     no  northwest  10600.54830   \n",
      "1334   18  female  31.920         0     no  northeast   2205.98080   \n",
      "1335   18  female  36.850         0     no  southeast   1629.83350   \n",
      "1336   21  female  25.800         0     no  southwest   2007.94500   \n",
      "1337   61  female  29.070         0    yes  northwest  29141.36030   \n",
      "\n",
      "          bmiCat ageCategory  chargesQuant  \n",
      "0     Overweight       18-29          0.75  \n",
      "1          Obese       18-29          0.04  \n",
      "2          Obese       18-29          0.23  \n",
      "3        Healthy       30-39          0.82  \n",
      "4     Overweight       30-39          0.19  \n",
      "...          ...         ...           ...  \n",
      "1333       Obese       50-59          0.56  \n",
      "1334       Obese       18-29          0.09  \n",
      "1335       Obese       18-29          0.02  \n",
      "1336  Overweight       18-29          0.07  \n",
      "1337  Overweight       60-65          0.88  \n",
      "\n",
      "[1337 rows x 10 columns]\n"
     ]
    }
   ],
   "source": [
    "insurance['chargesQuant']=insurance['charges'].rank(pct=True).round(2)\n",
    "print(insurance)"
   ]
  },
  {
   "cell_type": "code",
   "execution_count": 6,
   "id": "b3c6bd24",
   "metadata": {},
   "outputs": [
    {
     "data": {
      "text/html": [
       "<div>\n",
       "<style scoped>\n",
       "    .dataframe tbody tr th:only-of-type {\n",
       "        vertical-align: middle;\n",
       "    }\n",
       "\n",
       "    .dataframe tbody tr th {\n",
       "        vertical-align: top;\n",
       "    }\n",
       "\n",
       "    .dataframe thead th {\n",
       "        text-align: right;\n",
       "    }\n",
       "</style>\n",
       "<table border=\"1\" class=\"dataframe\">\n",
       "  <thead>\n",
       "    <tr style=\"text-align: right;\">\n",
       "      <th></th>\n",
       "      <th>age</th>\n",
       "      <th>sex</th>\n",
       "      <th>bmi</th>\n",
       "      <th>children</th>\n",
       "      <th>smoker</th>\n",
       "      <th>region</th>\n",
       "      <th>charges</th>\n",
       "      <th>bmiCat</th>\n",
       "      <th>ageCategory</th>\n",
       "      <th>chargesQuant</th>\n",
       "      <th>Risk Classification</th>\n",
       "    </tr>\n",
       "  </thead>\n",
       "  <tbody>\n",
       "    <tr>\n",
       "      <th>0</th>\n",
       "      <td>19</td>\n",
       "      <td>female</td>\n",
       "      <td>27.900</td>\n",
       "      <td>0</td>\n",
       "      <td>yes</td>\n",
       "      <td>southwest</td>\n",
       "      <td>16884.92400</td>\n",
       "      <td>Overweight</td>\n",
       "      <td>18-29</td>\n",
       "      <td>0.75</td>\n",
       "      <td>High Risk</td>\n",
       "    </tr>\n",
       "    <tr>\n",
       "      <th>1</th>\n",
       "      <td>18</td>\n",
       "      <td>male</td>\n",
       "      <td>33.770</td>\n",
       "      <td>1</td>\n",
       "      <td>no</td>\n",
       "      <td>southeast</td>\n",
       "      <td>1725.55230</td>\n",
       "      <td>Obese</td>\n",
       "      <td>18-29</td>\n",
       "      <td>0.04</td>\n",
       "      <td>Normal Risk</td>\n",
       "    </tr>\n",
       "    <tr>\n",
       "      <th>2</th>\n",
       "      <td>28</td>\n",
       "      <td>male</td>\n",
       "      <td>33.000</td>\n",
       "      <td>3</td>\n",
       "      <td>no</td>\n",
       "      <td>southeast</td>\n",
       "      <td>4449.46200</td>\n",
       "      <td>Obese</td>\n",
       "      <td>18-29</td>\n",
       "      <td>0.23</td>\n",
       "      <td>Normal Risk</td>\n",
       "    </tr>\n",
       "    <tr>\n",
       "      <th>3</th>\n",
       "      <td>33</td>\n",
       "      <td>male</td>\n",
       "      <td>22.705</td>\n",
       "      <td>0</td>\n",
       "      <td>no</td>\n",
       "      <td>northwest</td>\n",
       "      <td>21984.47061</td>\n",
       "      <td>Healthy</td>\n",
       "      <td>30-39</td>\n",
       "      <td>0.82</td>\n",
       "      <td>High Risk</td>\n",
       "    </tr>\n",
       "    <tr>\n",
       "      <th>4</th>\n",
       "      <td>32</td>\n",
       "      <td>male</td>\n",
       "      <td>28.880</td>\n",
       "      <td>0</td>\n",
       "      <td>no</td>\n",
       "      <td>northwest</td>\n",
       "      <td>3866.85520</td>\n",
       "      <td>Overweight</td>\n",
       "      <td>30-39</td>\n",
       "      <td>0.19</td>\n",
       "      <td>Normal Risk</td>\n",
       "    </tr>\n",
       "  </tbody>\n",
       "</table>\n",
       "</div>"
      ],
      "text/plain": [
       "   age     sex     bmi  children smoker     region      charges      bmiCat  \\\n",
       "0   19  female  27.900         0    yes  southwest  16884.92400  Overweight   \n",
       "1   18    male  33.770         1     no  southeast   1725.55230       Obese   \n",
       "2   28    male  33.000         3     no  southeast   4449.46200       Obese   \n",
       "3   33    male  22.705         0     no  northwest  21984.47061     Healthy   \n",
       "4   32    male  28.880         0     no  northwest   3866.85520  Overweight   \n",
       "\n",
       "  ageCategory  chargesQuant Risk Classification  \n",
       "0       18-29          0.75           High Risk  \n",
       "1       18-29          0.04         Normal Risk  \n",
       "2       18-29          0.23         Normal Risk  \n",
       "3       30-39          0.82           High Risk  \n",
       "4       30-39          0.19         Normal Risk  "
      ]
     },
     "execution_count": 6,
     "metadata": {},
     "output_type": "execute_result"
    }
   ],
   "source": [
    "conditionsRisk = [\n",
    "    (insurance['chargesQuant'] < .70),\n",
    "    (insurance['chargesQuant'] >= .70)\n",
    "    ]\n",
    "\n",
    "# create a list of the values we want to assign for each condition \n",
    "valuesRisk = ['Normal Risk', 'High Risk']\n",
    "\n",
    "# create a new column and use np.select to assign values to it using our lists as arguments\n",
    "insurance['Risk Classification'] = np.select(conditionsRisk, valuesRisk)\n",
    "\n",
    "# display updated DataFrame\n",
    "insurance.head()"
   ]
  },
  {
   "cell_type": "code",
   "execution_count": 7,
   "id": "27347535",
   "metadata": {},
   "outputs": [
    {
     "name": "stderr",
     "output_type": "stream",
     "text": [
      "<ipython-input-7-99462e09065e>:3: SettingWithCopyWarning: \n",
      "A value is trying to be set on a copy of a slice from a DataFrame\n",
      "\n",
      "See the caveats in the documentation: https://pandas.pydata.org/pandas-docs/stable/user_guide/indexing.html#returning-a-view-versus-a-copy\n",
      "  insurance['target'][mask] = 1.0\n"
     ]
    }
   ],
   "source": [
    "insurance['target'] = 0.0\n",
    "mask = (insurance[\"Risk Classification\"] == \"High Risk\")\n",
    "insurance['target'][mask] = 1.0 "
   ]
  },
  {
   "cell_type": "code",
   "execution_count": 8,
   "id": "ac284665",
   "metadata": {},
   "outputs": [
    {
     "data": {
      "text/plain": [
       "0.0    929\n",
       "1.0    408\n",
       "Name: target, dtype: int64"
      ]
     },
     "execution_count": 8,
     "metadata": {},
     "output_type": "execute_result"
    }
   ],
   "source": [
    "insurance['target'].value_counts()"
   ]
  },
  {
   "cell_type": "code",
   "execution_count": 9,
   "id": "5ee4881e",
   "metadata": {},
   "outputs": [
    {
     "data": {
      "text/plain": [
       "array(['sex_female', 'sex_male', 'children_0', 'children_1', 'children_2',\n",
       "       'children_3', 'children_4', 'children_5', 'smoker_no',\n",
       "       'smoker_yes', 'region_northeast', 'region_northwest',\n",
       "       'region_southeast', 'region_southwest', 'bmiCat_Healthy',\n",
       "       'bmiCat_Obese', 'bmiCat_Overweight', 'bmiCat_Underweight',\n",
       "       'ageCategory_18-29', 'ageCategory_30-39', 'ageCategory_40-49',\n",
       "       'ageCategory_50-59', 'ageCategory_60-65'], dtype=object)"
      ]
     },
     "execution_count": 9,
     "metadata": {},
     "output_type": "execute_result"
    }
   ],
   "source": [
    "categorical_columns = ['sex', 'children', 'smoker', 'region',\n",
    "          'bmiCat', 'ageCategory']\n",
    "insurance_dummies = pd.get_dummies(insurance[categorical_columns], #creates dummy variable for all categorical columns\n",
    "                            prefix=categorical_columns, #Calls categorical column then the bin we created above as title\n",
    "                            columns=categorical_columns)\n",
    "insurance_column_names = insurance_dummies.columns.values\n",
    "insurance_column_names"
   ]
  },
  {
   "cell_type": "code",
   "execution_count": 10,
   "id": "2b9e5aaf",
   "metadata": {},
   "outputs": [
    {
     "data": {
      "text/html": [
       "<div>\n",
       "<style scoped>\n",
       "    .dataframe tbody tr th:only-of-type {\n",
       "        vertical-align: middle;\n",
       "    }\n",
       "\n",
       "    .dataframe tbody tr th {\n",
       "        vertical-align: top;\n",
       "    }\n",
       "\n",
       "    .dataframe thead th {\n",
       "        text-align: right;\n",
       "    }\n",
       "</style>\n",
       "<table border=\"1\" class=\"dataframe\">\n",
       "  <thead>\n",
       "    <tr style=\"text-align: right;\">\n",
       "      <th></th>\n",
       "      <th>age</th>\n",
       "      <th>sex</th>\n",
       "      <th>bmi</th>\n",
       "      <th>children</th>\n",
       "      <th>smoker</th>\n",
       "      <th>region</th>\n",
       "      <th>charges</th>\n",
       "      <th>bmiCat</th>\n",
       "      <th>ageCategory</th>\n",
       "      <th>chargesQuant</th>\n",
       "      <th>...</th>\n",
       "      <th>region_southwest</th>\n",
       "      <th>bmiCat_Healthy</th>\n",
       "      <th>bmiCat_Obese</th>\n",
       "      <th>bmiCat_Overweight</th>\n",
       "      <th>bmiCat_Underweight</th>\n",
       "      <th>ageCategory_18-29</th>\n",
       "      <th>ageCategory_30-39</th>\n",
       "      <th>ageCategory_40-49</th>\n",
       "      <th>ageCategory_50-59</th>\n",
       "      <th>ageCategory_60-65</th>\n",
       "    </tr>\n",
       "  </thead>\n",
       "  <tbody>\n",
       "    <tr>\n",
       "      <th>0</th>\n",
       "      <td>19</td>\n",
       "      <td>female</td>\n",
       "      <td>27.900</td>\n",
       "      <td>0</td>\n",
       "      <td>yes</td>\n",
       "      <td>southwest</td>\n",
       "      <td>16884.92400</td>\n",
       "      <td>Overweight</td>\n",
       "      <td>18-29</td>\n",
       "      <td>0.75</td>\n",
       "      <td>...</td>\n",
       "      <td>1</td>\n",
       "      <td>0</td>\n",
       "      <td>0</td>\n",
       "      <td>1</td>\n",
       "      <td>0</td>\n",
       "      <td>1</td>\n",
       "      <td>0</td>\n",
       "      <td>0</td>\n",
       "      <td>0</td>\n",
       "      <td>0</td>\n",
       "    </tr>\n",
       "    <tr>\n",
       "      <th>1</th>\n",
       "      <td>18</td>\n",
       "      <td>male</td>\n",
       "      <td>33.770</td>\n",
       "      <td>1</td>\n",
       "      <td>no</td>\n",
       "      <td>southeast</td>\n",
       "      <td>1725.55230</td>\n",
       "      <td>Obese</td>\n",
       "      <td>18-29</td>\n",
       "      <td>0.04</td>\n",
       "      <td>...</td>\n",
       "      <td>0</td>\n",
       "      <td>0</td>\n",
       "      <td>1</td>\n",
       "      <td>0</td>\n",
       "      <td>0</td>\n",
       "      <td>1</td>\n",
       "      <td>0</td>\n",
       "      <td>0</td>\n",
       "      <td>0</td>\n",
       "      <td>0</td>\n",
       "    </tr>\n",
       "    <tr>\n",
       "      <th>2</th>\n",
       "      <td>28</td>\n",
       "      <td>male</td>\n",
       "      <td>33.000</td>\n",
       "      <td>3</td>\n",
       "      <td>no</td>\n",
       "      <td>southeast</td>\n",
       "      <td>4449.46200</td>\n",
       "      <td>Obese</td>\n",
       "      <td>18-29</td>\n",
       "      <td>0.23</td>\n",
       "      <td>...</td>\n",
       "      <td>0</td>\n",
       "      <td>0</td>\n",
       "      <td>1</td>\n",
       "      <td>0</td>\n",
       "      <td>0</td>\n",
       "      <td>1</td>\n",
       "      <td>0</td>\n",
       "      <td>0</td>\n",
       "      <td>0</td>\n",
       "      <td>0</td>\n",
       "    </tr>\n",
       "    <tr>\n",
       "      <th>3</th>\n",
       "      <td>33</td>\n",
       "      <td>male</td>\n",
       "      <td>22.705</td>\n",
       "      <td>0</td>\n",
       "      <td>no</td>\n",
       "      <td>northwest</td>\n",
       "      <td>21984.47061</td>\n",
       "      <td>Healthy</td>\n",
       "      <td>30-39</td>\n",
       "      <td>0.82</td>\n",
       "      <td>...</td>\n",
       "      <td>0</td>\n",
       "      <td>1</td>\n",
       "      <td>0</td>\n",
       "      <td>0</td>\n",
       "      <td>0</td>\n",
       "      <td>0</td>\n",
       "      <td>1</td>\n",
       "      <td>0</td>\n",
       "      <td>0</td>\n",
       "      <td>0</td>\n",
       "    </tr>\n",
       "    <tr>\n",
       "      <th>4</th>\n",
       "      <td>32</td>\n",
       "      <td>male</td>\n",
       "      <td>28.880</td>\n",
       "      <td>0</td>\n",
       "      <td>no</td>\n",
       "      <td>northwest</td>\n",
       "      <td>3866.85520</td>\n",
       "      <td>Overweight</td>\n",
       "      <td>30-39</td>\n",
       "      <td>0.19</td>\n",
       "      <td>...</td>\n",
       "      <td>0</td>\n",
       "      <td>0</td>\n",
       "      <td>0</td>\n",
       "      <td>1</td>\n",
       "      <td>0</td>\n",
       "      <td>0</td>\n",
       "      <td>1</td>\n",
       "      <td>0</td>\n",
       "      <td>0</td>\n",
       "      <td>0</td>\n",
       "    </tr>\n",
       "    <tr>\n",
       "      <th>...</th>\n",
       "      <td>...</td>\n",
       "      <td>...</td>\n",
       "      <td>...</td>\n",
       "      <td>...</td>\n",
       "      <td>...</td>\n",
       "      <td>...</td>\n",
       "      <td>...</td>\n",
       "      <td>...</td>\n",
       "      <td>...</td>\n",
       "      <td>...</td>\n",
       "      <td>...</td>\n",
       "      <td>...</td>\n",
       "      <td>...</td>\n",
       "      <td>...</td>\n",
       "      <td>...</td>\n",
       "      <td>...</td>\n",
       "      <td>...</td>\n",
       "      <td>...</td>\n",
       "      <td>...</td>\n",
       "      <td>...</td>\n",
       "      <td>...</td>\n",
       "    </tr>\n",
       "    <tr>\n",
       "      <th>1333</th>\n",
       "      <td>50</td>\n",
       "      <td>male</td>\n",
       "      <td>30.970</td>\n",
       "      <td>3</td>\n",
       "      <td>no</td>\n",
       "      <td>northwest</td>\n",
       "      <td>10600.54830</td>\n",
       "      <td>Obese</td>\n",
       "      <td>50-59</td>\n",
       "      <td>0.56</td>\n",
       "      <td>...</td>\n",
       "      <td>0</td>\n",
       "      <td>0</td>\n",
       "      <td>1</td>\n",
       "      <td>0</td>\n",
       "      <td>0</td>\n",
       "      <td>0</td>\n",
       "      <td>0</td>\n",
       "      <td>0</td>\n",
       "      <td>1</td>\n",
       "      <td>0</td>\n",
       "    </tr>\n",
       "    <tr>\n",
       "      <th>1334</th>\n",
       "      <td>18</td>\n",
       "      <td>female</td>\n",
       "      <td>31.920</td>\n",
       "      <td>0</td>\n",
       "      <td>no</td>\n",
       "      <td>northeast</td>\n",
       "      <td>2205.98080</td>\n",
       "      <td>Obese</td>\n",
       "      <td>18-29</td>\n",
       "      <td>0.09</td>\n",
       "      <td>...</td>\n",
       "      <td>0</td>\n",
       "      <td>0</td>\n",
       "      <td>1</td>\n",
       "      <td>0</td>\n",
       "      <td>0</td>\n",
       "      <td>1</td>\n",
       "      <td>0</td>\n",
       "      <td>0</td>\n",
       "      <td>0</td>\n",
       "      <td>0</td>\n",
       "    </tr>\n",
       "    <tr>\n",
       "      <th>1335</th>\n",
       "      <td>18</td>\n",
       "      <td>female</td>\n",
       "      <td>36.850</td>\n",
       "      <td>0</td>\n",
       "      <td>no</td>\n",
       "      <td>southeast</td>\n",
       "      <td>1629.83350</td>\n",
       "      <td>Obese</td>\n",
       "      <td>18-29</td>\n",
       "      <td>0.02</td>\n",
       "      <td>...</td>\n",
       "      <td>0</td>\n",
       "      <td>0</td>\n",
       "      <td>1</td>\n",
       "      <td>0</td>\n",
       "      <td>0</td>\n",
       "      <td>1</td>\n",
       "      <td>0</td>\n",
       "      <td>0</td>\n",
       "      <td>0</td>\n",
       "      <td>0</td>\n",
       "    </tr>\n",
       "    <tr>\n",
       "      <th>1336</th>\n",
       "      <td>21</td>\n",
       "      <td>female</td>\n",
       "      <td>25.800</td>\n",
       "      <td>0</td>\n",
       "      <td>no</td>\n",
       "      <td>southwest</td>\n",
       "      <td>2007.94500</td>\n",
       "      <td>Overweight</td>\n",
       "      <td>18-29</td>\n",
       "      <td>0.07</td>\n",
       "      <td>...</td>\n",
       "      <td>1</td>\n",
       "      <td>0</td>\n",
       "      <td>0</td>\n",
       "      <td>1</td>\n",
       "      <td>0</td>\n",
       "      <td>1</td>\n",
       "      <td>0</td>\n",
       "      <td>0</td>\n",
       "      <td>0</td>\n",
       "      <td>0</td>\n",
       "    </tr>\n",
       "    <tr>\n",
       "      <th>1337</th>\n",
       "      <td>61</td>\n",
       "      <td>female</td>\n",
       "      <td>29.070</td>\n",
       "      <td>0</td>\n",
       "      <td>yes</td>\n",
       "      <td>northwest</td>\n",
       "      <td>29141.36030</td>\n",
       "      <td>Overweight</td>\n",
       "      <td>60-65</td>\n",
       "      <td>0.88</td>\n",
       "      <td>...</td>\n",
       "      <td>0</td>\n",
       "      <td>0</td>\n",
       "      <td>0</td>\n",
       "      <td>1</td>\n",
       "      <td>0</td>\n",
       "      <td>0</td>\n",
       "      <td>0</td>\n",
       "      <td>0</td>\n",
       "      <td>0</td>\n",
       "      <td>1</td>\n",
       "    </tr>\n",
       "  </tbody>\n",
       "</table>\n",
       "<p>1337 rows × 35 columns</p>\n",
       "</div>"
      ],
      "text/plain": [
       "      age     sex     bmi  children smoker     region      charges  \\\n",
       "0      19  female  27.900         0    yes  southwest  16884.92400   \n",
       "1      18    male  33.770         1     no  southeast   1725.55230   \n",
       "2      28    male  33.000         3     no  southeast   4449.46200   \n",
       "3      33    male  22.705         0     no  northwest  21984.47061   \n",
       "4      32    male  28.880         0     no  northwest   3866.85520   \n",
       "...   ...     ...     ...       ...    ...        ...          ...   \n",
       "1333   50    male  30.970         3     no  northwest  10600.54830   \n",
       "1334   18  female  31.920         0     no  northeast   2205.98080   \n",
       "1335   18  female  36.850         0     no  southeast   1629.83350   \n",
       "1336   21  female  25.800         0     no  southwest   2007.94500   \n",
       "1337   61  female  29.070         0    yes  northwest  29141.36030   \n",
       "\n",
       "          bmiCat ageCategory  chargesQuant  ... region_southwest  \\\n",
       "0     Overweight       18-29          0.75  ...                1   \n",
       "1          Obese       18-29          0.04  ...                0   \n",
       "2          Obese       18-29          0.23  ...                0   \n",
       "3        Healthy       30-39          0.82  ...                0   \n",
       "4     Overweight       30-39          0.19  ...                0   \n",
       "...          ...         ...           ...  ...              ...   \n",
       "1333       Obese       50-59          0.56  ...                0   \n",
       "1334       Obese       18-29          0.09  ...                0   \n",
       "1335       Obese       18-29          0.02  ...                0   \n",
       "1336  Overweight       18-29          0.07  ...                1   \n",
       "1337  Overweight       60-65          0.88  ...                0   \n",
       "\n",
       "      bmiCat_Healthy  bmiCat_Obese  bmiCat_Overweight  bmiCat_Underweight  \\\n",
       "0                  0             0                  1                   0   \n",
       "1                  0             1                  0                   0   \n",
       "2                  0             1                  0                   0   \n",
       "3                  1             0                  0                   0   \n",
       "4                  0             0                  1                   0   \n",
       "...              ...           ...                ...                 ...   \n",
       "1333               0             1                  0                   0   \n",
       "1334               0             1                  0                   0   \n",
       "1335               0             1                  0                   0   \n",
       "1336               0             0                  1                   0   \n",
       "1337               0             0                  1                   0   \n",
       "\n",
       "      ageCategory_18-29  ageCategory_30-39  ageCategory_40-49  \\\n",
       "0                     1                  0                  0   \n",
       "1                     1                  0                  0   \n",
       "2                     1                  0                  0   \n",
       "3                     0                  1                  0   \n",
       "4                     0                  1                  0   \n",
       "...                 ...                ...                ...   \n",
       "1333                  0                  0                  0   \n",
       "1334                  1                  0                  0   \n",
       "1335                  1                  0                  0   \n",
       "1336                  1                  0                  0   \n",
       "1337                  0                  0                  0   \n",
       "\n",
       "      ageCategory_50-59  ageCategory_60-65  \n",
       "0                     0                  0  \n",
       "1                     0                  0  \n",
       "2                     0                  0  \n",
       "3                     0                  0  \n",
       "4                     0                  0  \n",
       "...                 ...                ...  \n",
       "1333                  1                  0  \n",
       "1334                  0                  0  \n",
       "1335                  0                  0  \n",
       "1336                  0                  0  \n",
       "1337                  0                  1  \n",
       "\n",
       "[1337 rows x 35 columns]"
      ]
     },
     "execution_count": 10,
     "metadata": {},
     "output_type": "execute_result"
    }
   ],
   "source": [
    "df2 = pd.concat([insurance, insurance_dummies], axis=1)\n",
    "df2"
   ]
  },
  {
   "cell_type": "code",
   "execution_count": 11,
   "id": "e16553cc",
   "metadata": {},
   "outputs": [
    {
     "name": "stdout",
     "output_type": "stream",
     "text": [
      "target ~ 0 + Q(\"sex_female\") + Q(\"sex_male\") + Q(\"children_0\") + Q(\"children_1\") + Q(\"children_2\") + Q(\"children_3\") + Q(\"children_4\") + Q(\"children_5\") + Q(\"smoker_no\") + Q(\"smoker_yes\") + Q(\"region_northeast\") + Q(\"region_northwest\") + Q(\"region_southeast\") + Q(\"region_southwest\") + Q(\"bmiCat_Healthy\") + Q(\"bmiCat_Obese\") + Q(\"bmiCat_Overweight\") + Q(\"bmiCat_Underweight\") + Q(\"ageCategory_18-29\") + Q(\"ageCategory_30-39\") + Q(\"ageCategory_40-49\") + Q(\"ageCategory_50-59\") + Q(\"ageCategory_60-65\")\n"
     ]
    }
   ],
   "source": [
    "formula = 'target ~ 0 + {}'.format(' + '.join(['Q(\"{}\")'.format(x) for x in insurance_column_names]))\n",
    "print(formula) #Q tells pandas that its a quote. Needed for column names or else dmatrices will be confused\n",
    "#Understanding column names"
   ]
  },
  {
   "cell_type": "code",
   "execution_count": 12,
   "id": "33f9b18e",
   "metadata": {},
   "outputs": [],
   "source": [
    "Y, X = dmatrices(formula,df2, return_type = 'dataframe')"
   ]
  },
  {
   "cell_type": "code",
   "execution_count": 13,
   "id": "2f2fbbe4",
   "metadata": {},
   "outputs": [
    {
     "data": {
      "text/plain": [
       "array([1., 0., 0., 1., 0., 0., 0., 0., 0., 1.])"
      ]
     },
     "execution_count": 13,
     "metadata": {},
     "output_type": "execute_result"
    }
   ],
   "source": [
    "y = Y['target'].values\n",
    "y[:10]"
   ]
  },
  {
   "cell_type": "code",
   "execution_count": 14,
   "id": "ea0b7bb5",
   "metadata": {},
   "outputs": [],
   "source": [
    "from sklearn.model_selection import train_test_split\n",
    "X_train, X_test, y_train, y_test = train_test_split(X, y, test_size=0.4, random_state=1)"
   ]
  },
  {
   "cell_type": "code",
   "execution_count": 15,
   "id": "135281b8",
   "metadata": {},
   "outputs": [],
   "source": [
    "from sklearn import naive_bayes\n",
    "model = naive_bayes.MultinomialNB()"
   ]
  },
  {
   "cell_type": "code",
   "execution_count": 16,
   "id": "8dc597be",
   "metadata": {},
   "outputs": [
    {
     "data": {
      "text/plain": [
       "MultinomialNB()"
      ]
     },
     "execution_count": 16,
     "metadata": {},
     "output_type": "execute_result"
    }
   ],
   "source": [
    "model.fit(X,y)"
   ]
  },
  {
   "cell_type": "code",
   "execution_count": 17,
   "id": "e8e7d9c9",
   "metadata": {},
   "outputs": [
    {
     "name": "stdout",
     "output_type": "stream",
     "text": [
      "Prediction\n",
      "[1. 0. 0. 0. 0. 0. 0. 0. 0. 0.]\n",
      "Actual\n",
      "[1. 0. 0. 1. 0. 0. 0. 0. 0. 1.]\n"
     ]
    }
   ],
   "source": [
    "print('Prediction')\n",
    "print(model.predict(X[:10]))\n",
    "print('Actual')\n",
    "print(y[:10])"
   ]
  },
  {
   "cell_type": "code",
   "execution_count": 18,
   "id": "ac5005cf",
   "metadata": {},
   "outputs": [
    {
     "name": "stdout",
     "output_type": "stream",
     "text": [
      "0.9012715033657442\n"
     ]
    }
   ],
   "source": [
    "from sklearn import metrics\n",
    "prediction_train = model.predict(X)\n",
    "print(metrics.accuracy_score(y,prediction_train))"
   ]
  },
  {
   "cell_type": "code",
   "execution_count": 19,
   "id": "7e74b43d",
   "metadata": {},
   "outputs": [
    {
     "name": "stdout",
     "output_type": "stream",
     "text": [
      "0.9102803738317757\n"
     ]
    }
   ],
   "source": [
    "prediction_test = model.predict(X_test)\n",
    "print(metrics.accuracy_score(y_test, prediction_test))"
   ]
  },
  {
   "cell_type": "code",
   "execution_count": 20,
   "id": "fecf6286",
   "metadata": {},
   "outputs": [
    {
     "name": "stdout",
     "output_type": "stream",
     "text": [
      "Prior probability for the normal risk class is\n",
      "0.6948391922213908\n",
      "Prior probability for the high risk class is\n",
      "0.3051608077786087\n"
     ]
    }
   ],
   "source": [
    "print('Prior probability for the normal risk class is',)\n",
    "print(exp(model.class_log_prior_[0]))\n",
    "print('Prior probability for the high risk class is',)\n",
    "print(exp(model.class_log_prior_[1]))"
   ]
  },
  {
   "cell_type": "code",
   "execution_count": 21,
   "id": "391156e5",
   "metadata": {},
   "outputs": [
    {
     "data": {
      "text/plain": [
       "0.0    0.694839\n",
       "1.0    0.305161\n",
       "Name: target, dtype: float64"
      ]
     },
     "execution_count": 21,
     "metadata": {},
     "output_type": "execute_result"
    }
   ],
   "source": [
    "insurance['target'].value_counts() / len(insurance)"
   ]
  },
  {
   "cell_type": "code",
   "execution_count": 22,
   "id": "42467fbc",
   "metadata": {},
   "outputs": [
    {
     "data": {
      "text/plain": [
       "array([0.0818758 , 0.07305267, 0.05884663, 0.16181596, 0.16754422,\n",
       "       0.31683252, 0.28697956, 0.91699324, 1.10384604, 5.73758874,\n",
       "       0.12905834, 0.08583478, 0.1973674 , 0.29327457, 0.01088072,\n",
       "       0.07962922, 0.12225609, 0.40616762, 0.16322144, 0.19530975,\n",
       "       0.12121203, 0.17163192, 1.49785159])"
      ]
     },
     "execution_count": 22,
     "metadata": {},
     "output_type": "execute_result"
    }
   ],
   "source": [
    "feature_importances = abs(model.feature_log_prob_[1] - model.feature_log_prob_[0])\n",
    "feature_importances"
   ]
  },
  {
   "cell_type": "code",
   "execution_count": 23,
   "id": "4d6ecdc0",
   "metadata": {},
   "outputs": [
    {
     "data": {
      "text/plain": [
       "Q(\"smoker_yes\")            5.737589\n",
       "Q(\"ageCategory_60-65\")     1.497852\n",
       "Q(\"smoker_no\")             1.103846\n",
       "Q(\"children_5\")            0.916993\n",
       "Q(\"bmiCat_Underweight\")    0.406168\n",
       "Q(\"children_3\")            0.316833\n",
       "Q(\"region_southwest\")      0.293275\n",
       "Q(\"children_4\")            0.286980\n",
       "Q(\"region_southeast\")      0.197367\n",
       "Q(\"ageCategory_30-39\")     0.195310\n",
       "dtype: float64"
      ]
     },
     "execution_count": 23,
     "metadata": {},
     "output_type": "execute_result"
    }
   ],
   "source": [
    "feature_importance_series = Series(feature_importances, index=X.columns.values)\n",
    "feature_importance_series.sort_values(ascending = False)[:10]"
   ]
  },
  {
   "cell_type": "code",
   "execution_count": 24,
   "id": "f8010dda",
   "metadata": {},
   "outputs": [],
   "source": [
    "top_10_feature_indices = feature_importance_series.sort_values(ascending=False)[:10].index.values"
   ]
  },
  {
   "cell_type": "code",
   "execution_count": 25,
   "id": "af896e47",
   "metadata": {},
   "outputs": [
    {
     "data": {
      "text/plain": [
       "Q(\"smoker_yes\")            5.737589\n",
       "Q(\"ageCategory_60-65\")     1.497852\n",
       "Q(\"smoker_no\")            -1.103846\n",
       "Q(\"children_5\")           -0.916993\n",
       "Q(\"bmiCat_Underweight\")   -0.406168\n",
       "Q(\"children_3\")            0.316833\n",
       "Q(\"region_southwest\")     -0.293275\n",
       "Q(\"children_4\")            0.286980\n",
       "Q(\"region_southeast\")      0.197367\n",
       "Q(\"ageCategory_30-39\")    -0.195310\n",
       "dtype: float64"
      ]
     },
     "execution_count": 25,
     "metadata": {},
     "output_type": "execute_result"
    }
   ],
   "source": [
    "inter_class_differences = model.feature_log_prob_[1] - model.feature_log_prob_[0]\n",
    "new_feature_importance_series = Series(inter_class_differences, index=X.columns.values)\n",
    "\n",
    "new_feature_importance_series.loc[top_10_feature_indices]"
   ]
  }
 ],
 "metadata": {
  "kernelspec": {
   "display_name": "Python 3",
   "language": "python",
   "name": "python3"
  },
  "language_info": {
   "codemirror_mode": {
    "name": "ipython",
    "version": 3
   },
   "file_extension": ".py",
   "mimetype": "text/x-python",
   "name": "python",
   "nbconvert_exporter": "python",
   "pygments_lexer": "ipython3",
   "version": "3.8.8"
  }
 },
 "nbformat": 4,
 "nbformat_minor": 5
}
